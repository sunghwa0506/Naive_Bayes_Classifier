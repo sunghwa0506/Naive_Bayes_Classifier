{
 "cells": [
  {
   "cell_type": "code",
   "execution_count": 1,
   "metadata": {},
   "outputs": [],
   "source": [
    "import matplotlib.pyplot as plt\n",
    "import numpy as np\n",
    "import pandas as pd\n",
    "import glob\n",
    "import re\n",
    "import string\n",
    "import nltk\n",
    "import os\n",
    "from sklearn.model_selection import train_test_split\n",
    "from sklearn.model_selection import KFold\n"
   ]
  },
  {
   "cell_type": "code",
   "execution_count": 2,
   "metadata": {},
   "outputs": [],
   "source": [
    "train_pos_path = \"C:\\\\Users\\\\Elina\\\\Desktop\\\\aclImdb\\\\train\\\\pos\"\n",
    "train_neg_path = \"C:\\\\Users\\\\Elina\\\\Desktop\\\\aclImdb\\\\train\\\\neg\"\n"
   ]
  },
  {
   "cell_type": "code",
   "execution_count": 3,
   "metadata": {},
   "outputs": [],
   "source": [
    "train_pos_list = []\n",
    "train_pos_list_filename = []\n",
    "for root, dirs, files in os.walk(train_pos_path):\n",
    "    for file in files:\n",
    "        if file.endswith('.txt'):\n",
    "            with open(os.path.join(root, file), 'r',encoding=\"utf8\") as f:\n",
    "                head,tail = os.path.split(f.name)\n",
    "                text = f.read()\n",
    "                train_pos_list.append(text)\n",
    "                train_pos_list_filename.append(tail)\n"
   ]
  },
  {
   "cell_type": "code",
   "execution_count": 4,
   "metadata": {},
   "outputs": [],
   "source": [
    "train_neg_list = []\n",
    "train_neg_list_filename = []\n",
    "\n",
    "for root, dirs, files in os.walk(train_neg_path):\n",
    "    for file in files:\n",
    "        if file.endswith('.txt'):\n",
    "            with open(os.path.join(root, file), 'r',encoding=\"utf8\") as f:\n",
    "                text = f.read()\n",
    "                head,tail = os.path.split(f.name)\n",
    "                train_neg_list.append(text)\n",
    "                train_neg_list_filename.append(tail)"
   ]
  },
  {
   "cell_type": "code",
   "execution_count": 5,
   "metadata": {},
   "outputs": [],
   "source": [
    "train_pos_dataFrame = pd.DataFrame(list(zip(train_pos_list,train_pos_list_filename)),columns = [\"review\",\"File Name\"]) \n",
    "train_pos_dataFrame[\"sentiment\"]=\"pos\"\n",
    "train_pos_dataFrame[\"p.pos\"]='NaN'\n",
    "train_pos_dataFrame[\"p.neg\"]='NaN'\n",
    "train_pos_dataFrame[\"predicted_sentiment\"]='NaN'\n",
    "\n",
    "train_neg_dataFrame = pd.DataFrame(list(zip(train_neg_list,train_neg_list_filename)),columns = [\"review\",\"File Name\"]) \n",
    "train_neg_dataFrame[\"sentiment\"]=\"neg\"\n",
    "train_neg_dataFrame[\"p.pos\"]='NaN'\n",
    "train_neg_dataFrame[\"p.neg\"]='NaN'\n",
    "train_neg_dataFrame[\"predicted_sentiment\"]='NaN'"
   ]
  },
  {
   "cell_type": "code",
   "execution_count": 6,
   "metadata": {},
   "outputs": [],
   "source": [
    "traing = pd.concat([train_pos_dataFrame,train_neg_dataFrame], ignore_index=True)"
   ]
  },
  {
   "cell_type": "markdown",
   "metadata": {},
   "source": [
    "# Clean the string"
   ]
  },
  {
   "cell_type": "code",
   "execution_count": 7,
   "metadata": {},
   "outputs": [],
   "source": [
    "def clean_text(text):\n",
    "    text = text.lower().strip()\n",
    "    text = \" \".join([w for w in text.split() if len(w) > 2])\n",
    "    text = re.sub('\\[.*?\\]', '', text)\n",
    "    text = re.sub('https?://\\S+|www\\.\\S+', '', text)\n",
    "    text = re.sub('<.*?>+', '', text)\n",
    "    text = re.sub('[%s]' % re.escape(string.punctuation), '', text)\n",
    "    text = re.sub('\\n', '', text)\n",
    "    text = re.sub('\\w*\\d\\w*', '', text)\n",
    "    return text\n"
   ]
  },
  {
   "cell_type": "code",
   "execution_count": 8,
   "metadata": {},
   "outputs": [],
   "source": [
    "traing[\"review\"]=traing[\"review\"].apply(clean_text)"
   ]
  },
  {
   "cell_type": "code",
   "execution_count": 9,
   "metadata": {},
   "outputs": [],
   "source": [
    "tokenizer = nltk.tokenize.RegexpTokenizer(r'\\w+')\n",
    "\n",
    "\n",
    "traing[\"review\"] = traing[\"review\"].apply(tokenizer.tokenize)"
   ]
  },
  {
   "cell_type": "markdown",
   "metadata": {},
   "source": [
    "# Remove duplicate words and rare words"
   ]
  },
  {
   "cell_type": "code",
   "execution_count": 10,
   "metadata": {},
   "outputs": [],
   "source": [
    "def remove_duplicate_words(text,rare_word):\n",
    "    remove_duplicate_words = list(set(text) - set(rare_word))\n",
    "    return remove_duplicate_words"
   ]
  },
  {
   "cell_type": "markdown",
   "metadata": {},
   "source": [
    "# Find rare words that the occurrence is less than five times"
   ]
  },
  {
   "cell_type": "code",
   "execution_count": 11,
   "metadata": {},
   "outputs": [],
   "source": [
    "exploded = traing.explode('review')\n",
    "total_vocabulary  = exploded.review.value_counts(ascending=True)\n",
    "total_vocabulary  = total_vocabulary[total_vocabulary > 5]\n",
    "rare_word = total_vocabulary[total_vocabulary <= 5].index.to_list()"
   ]
  },
  {
   "cell_type": "code",
   "execution_count": 12,
   "metadata": {},
   "outputs": [],
   "source": [
    "traing['review'] = traing['review'].apply(\n",
    "        lambda x: remove_duplicate_words(x,rare_word))\n"
   ]
  },
  {
   "cell_type": "markdown",
   "metadata": {},
   "source": [
    "# Build a vocabulary for training as list with number of document containing these words"
   ]
  },
  {
   "cell_type": "code",
   "execution_count": 13,
   "metadata": {},
   "outputs": [
    {
     "name": "stdout",
     "output_type": "stream",
     "text": [
      "Build a vocabulary that the occurrence is more than five times\n",
      "\n",
      " morei             6\n",
      "reticent          6\n",
      "satisfies         6\n",
      "definetely        6\n",
      "raiding           6\n",
      "              ...  \n",
      "for           17763\n",
      "that          19964\n",
      "this          22417\n",
      "and           24105\n",
      "the           24778\n",
      "Name: review, Length: 25649, dtype: int64\n"
     ]
    }
   ],
   "source": [
    "exploded = traing.explode('review')\n",
    "total_vocabulary  = exploded.review.value_counts(ascending=True)\n",
    "total_vocabulary  = total_vocabulary[total_vocabulary > 5]\n",
    "print(\"Build a vocabulary that the occurrence is more than five times\\n\\n\",total_vocabulary)"
   ]
  },
  {
   "cell_type": "markdown",
   "metadata": {},
   "source": [
    "# Calculate the following probability\n",
    "## Probability of the occurrence\n",
    "### P[“the”] = num of documents containing ‘the’ / num of all documents\n",
    "## Conditional probability based on the sentiment\n",
    "### P[“the” | Positive]  = # of positive documents containing “the” / num of all positive review documents"
   ]
  },
  {
   "cell_type": "code",
   "execution_count": 14,
   "metadata": {},
   "outputs": [
    {
     "name": "stdout",
     "output_type": "stream",
     "text": [
      "P[“the”] = num of documents containing ‘the’ / num of all documents\n",
      "P[“the”] =  0.99112\n",
      "P[“the” | Positive]  = # of positive documents containing “the” / num of all positive review documents\n",
      "P[“the”] =  0.98992\n"
     ]
    }
   ],
   "source": [
    "num_of_all_documents=traing.shape[0]\n",
    "num_of_documents_containing_the= total_vocabulary[\"the\"]\n",
    "\n",
    "P_the=num_of_documents_containing_the/num_of_all_documents\n",
    "print(\"P[“the”] = num of documents containing ‘the’ / num of all documents\\nP[“the”] = \",P_the)\n",
    "\n",
    "pos = traing[\"sentiment\"]==\"pos\"\n",
    "vol_pos = traing[pos]\n",
    "total_pos_vocabulary = vol_pos.explode('review')\n",
    "total_pos_vocabulary  = total_pos_vocabulary.review.value_counts(ascending=True)\n",
    "\n",
    "\n",
    "neg = traing[\"sentiment\"]==\"neg\"\n",
    "vol_neg = traing[neg]\n",
    "total_neg_vocabulary  = vol_neg.explode('review')\n",
    "total_neg_vocabulary  = total_neg_vocabulary.review.value_counts(ascending=True)\n",
    "\n",
    "\n",
    "num_of_all_pos_documents=vol_pos.shape[0]\n",
    "num_of_all_neg_documents=vol_neg.shape[0]\n",
    "\n",
    "num_of_pos_documents_containing_the= total_pos_vocabulary[\"the\"]\n",
    "\n",
    "P_the=num_of_pos_documents_containing_the/num_of_all_pos_documents\n",
    "\n",
    "print(\"P[“the” | Positive]  = # of positive documents containing “the” / num of all positive review documents\\nP[“the”] = \",P_the)"
   ]
  },
  {
   "cell_type": "markdown",
   "metadata": {},
   "source": [
    "# Stopwords Removal"
   ]
  },
  {
   "cell_type": "code",
   "execution_count": 15,
   "metadata": {},
   "outputs": [],
   "source": [
    "from nltk.corpus import stopwords"
   ]
  },
  {
   "cell_type": "code",
   "execution_count": 16,
   "metadata": {},
   "outputs": [],
   "source": [
    "def remove_stopwords(word_tokens):\n",
    "    stop_words = set(stopwords.words('english')) \n",
    "    filtered_sentence = [w for w in word_tokens if not w in stop_words] \n",
    "\n",
    "    filtered_sentence = [] \n",
    "\n",
    "    for w in word_tokens: \n",
    "        if w not in stop_words: \n",
    "            filtered_sentence.append(w) \n",
    "            \n",
    "    return filtered_sentence"
   ]
  },
  {
   "cell_type": "code",
   "execution_count": 17,
   "metadata": {},
   "outputs": [],
   "source": [
    "traing['review'] = traing['review'].apply(remove_stopwords)"
   ]
  },
  {
   "cell_type": "code",
   "execution_count": 18,
   "metadata": {},
   "outputs": [],
   "source": [
    "def naive_bayes(text,total_vocabulary,total_vocal_sentiment,num_of_sentiment_documents,smoothing = False):\n",
    "    if smoothing != True:\n",
    "        if (text in total_vocabulary) & (text in total_vocal_sentiment):\n",
    "            return total_vocal_sentiment[text]/num_of_sentiment_documents\n",
    "\n",
    "        elif (text in total_vocabulary) & (text  not in total_vocal_sentiment):\n",
    "            return 0\n",
    "\n",
    "        elif (text not in total_vocal_sentiment) & (text  in total_vocabulary): \n",
    "            return 0\n",
    "\n",
    "        elif (text not in total_vocabulary) & (text   not in total_vocal_sentiment): \n",
    "            return 0\n",
    "    else:\n",
    "        if (text in total_vocabulary) & (text in total_vocal_sentiment):\n",
    "            return (total_vocal_sentiment[text]+1)/(num_of_sentiment_documents+2)\n",
    "\n",
    "        elif (text in total_vocabulary) & (text  not in total_vocal_sentiment):\n",
    "            return 1/(num_of_sentiment_documents+2)\n",
    "\n",
    "        elif (text not in total_vocal_sentiment) & (text  in total_vocabulary): \n",
    "            return 0\n",
    "\n",
    "        elif (text not in total_vocabulary) & (text   not in total_vocal_sentiment): \n",
    "            return 0"
   ]
  },
  {
   "cell_type": "markdown",
   "metadata": {},
   "source": [
    "# Calculate accuracy using dev dataset \n",
    "## Conduct five fold cross validation"
   ]
  },
  {
   "cell_type": "code",
   "execution_count": 19,
   "metadata": {},
   "outputs": [],
   "source": [
    "traing=traing.sample(frac = 1)"
   ]
  },
  {
   "cell_type": "code",
   "execution_count": 20,
   "metadata": {},
   "outputs": [],
   "source": [
    "def corss_validation(train,k,smoothing = False):\n",
    "    dev = 1/k\n",
    "    \n",
    "    for i in range (1,k+1):\n",
    "        dev_chunk = train.sample(\n",
    "            frac=dev, replace=False, random_state=i).copy(deep=True)\n",
    "        train_chunk = train.drop(dev_chunk.index, axis=0).copy(deep=True)\n",
    "       \n",
    "    \n",
    "    \n",
    "        train_data = train_chunk.explode('review')\n",
    "        total_train_vocabulary  = train_data.review.value_counts(ascending=True)\n",
    "        total_train_vocabulary  = total_train_vocabulary[total_train_vocabulary > 5]\n",
    "    \n",
    "    \n",
    "    \n",
    "    \n",
    "        print(\"Cross-validation Pass\", i)\n",
    "        \n",
    "        pos = dev_chunk[\"sentiment\"]==\"pos\"\n",
    "        vol_pos = dev_chunk[pos]\n",
    "        num_of_all_pos_documents=vol_pos.shape[0]\n",
    "        total_pos_vocabulary = vol_pos.explode('review')\n",
    "        total_pos_vocabulary  = total_pos_vocabulary.review.value_counts(ascending=True)\n",
    "\n",
    "                \n",
    "        neg = dev_chunk[\"sentiment\"]==\"neg\"\n",
    "        vol_neg = dev_chunk[neg]\n",
    "        num_of_all_neg_documents=vol_neg.shape[0]\n",
    "        total_neg_vocabulary  = vol_neg.explode('review')\n",
    "        total_neg_vocabulary  = total_neg_vocabulary.review.value_counts(ascending=True)\n",
    "\n",
    "        exploded = dev_chunk.explode('review')\n",
    "        \n",
    "\n",
    "        print(\"processing positive\")\n",
    "        exploded[\"p.pos\"] = exploded['review'].apply(\n",
    "        lambda x: naive_bayes(x,total_train_vocabulary,total_pos_vocabulary,num_of_all_pos_documents,smoothing))\n",
    "        print(\"done\")\n",
    "\n",
    "        \n",
    "        print(\"processing negative\")\n",
    "        exploded[\"p.neg\"] = exploded['review'].apply(\n",
    "        lambda x: naive_bayes(x,total_train_vocabulary,total_neg_vocabulary,num_of_all_neg_documents,smoothing))\n",
    "        print(\"done\")\n",
    "        \n",
    "\n",
    "       \n",
    "        group=exploded.groupby(\"File Name\")\n",
    "        \n",
    "        p_pos_sentiment=num_of_all_pos_documents/(num_of_all_pos_documents+num_of_all_neg_documents)\n",
    "        p_neg_sentiment=num_of_all_neg_documents/(num_of_all_pos_documents+num_of_all_neg_documents)\n",
    "        \n",
    "        \n",
    "        for file in dev_chunk[\"File Name\"]:\n",
    "            dev_chunk.loc[dev_chunk['File Name'] == file,\"p.pos\"]=group[\"p.pos\"].get_group(file).prod()*p_pos_sentiment\n",
    "            dev_chunk.loc[dev_chunk['File Name'] == file,\"p.neg\"]=group[\"p.neg\"].get_group(file).prod()*p_neg_sentiment\n",
    "\n",
    "        \n",
    "        dev_chunk['predicted_sentiment'] = np.where(dev_chunk[\"p.pos\"] > dev_chunk[\"p.neg\"], \"pos\", \"neg\")\n",
    "        correct=dev_chunk[\"sentiment\"]==dev_chunk[\"predicted_sentiment\"]\n",
    "\n",
    "        \n",
    "        \n",
    "        accuracy=0\n",
    "        for check in correct:\n",
    "            if check == True:\n",
    "                accuracy = accuracy+1\n",
    "                \n",
    "        accuracy=accuracy/correct.shape[0]\n",
    "        print(\"accuracy = \",accuracy,\"\\n\\n\\n\")\n",
    "\n",
    "        \n",
    "        \n",
    "    return \n",
    "        "
   ]
  },
  {
   "cell_type": "code",
   "execution_count": 21,
   "metadata": {},
   "outputs": [
    {
     "name": "stdout",
     "output_type": "stream",
     "text": [
      "Cross-validation Pass 1\n",
      "processing positive\n",
      "done\n",
      "processing negative\n",
      "done\n",
      "accuracy =  0.9504 \n",
      "\n",
      "\n",
      "\n",
      "Cross-validation Pass 2\n",
      "processing positive\n",
      "done\n",
      "processing negative\n",
      "done\n",
      "accuracy =  0.9488 \n",
      "\n",
      "\n",
      "\n",
      "Cross-validation Pass 3\n",
      "processing positive\n",
      "done\n",
      "processing negative\n",
      "done\n",
      "accuracy =  0.948 \n",
      "\n",
      "\n",
      "\n",
      "Cross-validation Pass 4\n",
      "processing positive\n",
      "done\n",
      "processing negative\n",
      "done\n",
      "accuracy =  0.9526 \n",
      "\n",
      "\n",
      "\n",
      "Cross-validation Pass 5\n",
      "processing positive\n",
      "done\n",
      "processing negative\n",
      "done\n",
      "accuracy =  0.9468 \n",
      "\n",
      "\n",
      "\n"
     ]
    }
   ],
   "source": [
    "corss_validation(traing,5)"
   ]
  },
  {
   "cell_type": "markdown",
   "metadata": {},
   "source": [
    "# Do following experiments\n",
    "## Compare the effect of Smoothing\n"
   ]
  },
  {
   "cell_type": "code",
   "execution_count": 22,
   "metadata": {},
   "outputs": [
    {
     "name": "stdout",
     "output_type": "stream",
     "text": [
      "Cross-validation Pass 1\n",
      "processing positive\n",
      "done\n",
      "processing negative\n",
      "done\n",
      "accuracy =  0.9502 \n",
      "\n",
      "\n",
      "\n",
      "Cross-validation Pass 2\n",
      "processing positive\n",
      "done\n",
      "processing negative\n",
      "done\n",
      "accuracy =  0.9516 \n",
      "\n",
      "\n",
      "\n",
      "Cross-validation Pass 3\n",
      "processing positive\n",
      "done\n",
      "processing negative\n",
      "done\n",
      "accuracy =  0.95 \n",
      "\n",
      "\n",
      "\n",
      "Cross-validation Pass 4\n",
      "processing positive\n",
      "done\n",
      "processing negative\n",
      "done\n",
      "accuracy =  0.953 \n",
      "\n",
      "\n",
      "\n",
      "Cross-validation Pass 5\n",
      "processing positive\n",
      "done\n",
      "processing negative\n",
      "done\n",
      "accuracy =  0.9468 \n",
      "\n",
      "\n",
      "\n"
     ]
    }
   ],
   "source": [
    "corss_validation(traing,5,smoothing = True)"
   ]
  },
  {
   "cell_type": "markdown",
   "metadata": {},
   "source": [
    "## Derive Top 10 words that predicts positive and negative class\n",
    "### P[Positive| word] "
   ]
  },
  {
   "cell_type": "code",
   "execution_count": 23,
   "metadata": {},
   "outputs": [],
   "source": [
    "def top_ten_words(train,k):\n",
    "    dev = 1/k\n",
    "    \n",
    "    dev_chunk = train.sample(\n",
    "        frac=dev, replace=False, random_state=1).copy(deep=True)\n",
    "    train_chunk = train.drop(dev_chunk.index, axis=0).copy(deep=True)\n",
    "    \n",
    "    train_data = train_chunk.explode('review')\n",
    "    total_train_vocabulary  = train_data.review.value_counts(ascending=True)\n",
    "    total_train_vocabulary  = total_train_vocabulary[total_train_vocabulary > 5]\n",
    "    total_words=train_data.shape[0]\n",
    "\n",
    "\n",
    "    pos = dev_chunk[\"sentiment\"]==\"pos\"\n",
    "    vol_pos = dev_chunk[pos]\n",
    "    num_of_all_pos_documents=vol_pos.shape[0]\n",
    "    total_pos_vocabulary = vol_pos.explode('review')\n",
    "    total_pos_vocabulary  = total_pos_vocabulary.review.value_counts(ascending=True)\n",
    "\n",
    "\n",
    "    neg = dev_chunk[\"sentiment\"]==\"neg\"\n",
    "    vol_neg = dev_chunk[neg]\n",
    "    num_of_all_neg_documents=vol_neg.shape[0]\n",
    "    total_neg_vocabulary  = vol_neg.explode('review')\n",
    "    total_neg_vocabulary  = total_neg_vocabulary.review.value_counts(ascending=True)\n",
    "\n",
    "    exploded = dev_chunk.explode('review')\n",
    "\n",
    "\n",
    "    print(\"processing positive\")\n",
    "    exploded[\"p.pos\"] = exploded['review'].apply(\n",
    "    lambda x: naive_bayes(x,total_train_vocabulary,total_pos_vocabulary,total_words))\n",
    "    print(\"done\")\n",
    "\n",
    "    exploded[\"p.pos\"]=exploded[\"p.pos\"]*(num_of_all_pos_documents/(num_of_all_pos_documents+num_of_all_neg_documents))\n",
    "\n",
    "    print(\"processing negative\")\n",
    "    exploded[\"p.neg\"] = exploded['review'].apply(\n",
    "    lambda x: naive_bayes(x,total_train_vocabulary,total_neg_vocabulary,total_words))\n",
    "    print(\"done\")\n",
    "\n",
    "    exploded[\"p.neg\"]=exploded[\"p.neg\"]*(num_of_all_pos_documents/(num_of_all_pos_documents+num_of_all_neg_documents))\n",
    "\n",
    "    group=exploded.groupby(\"File Name\")\n",
    "\n",
    "    p_pos_sentiment=num_of_all_pos_documents/(num_of_all_pos_documents+num_of_all_neg_documents)\n",
    "    p_neg_sentiment=num_of_all_neg_documents/(num_of_all_pos_documents+num_of_all_neg_documents)\n",
    "\n",
    "\n",
    "    for file in dev_chunk[\"File Name\"]:\n",
    "        dev_chunk.loc[dev_chunk['File Name'] == file,\"p.pos\"]=group[\"p.pos\"].get_group(file).prod()*p_pos_sentiment\n",
    "        dev_chunk.loc[dev_chunk['File Name'] == file,\"p.neg\"]=group[\"p.neg\"].get_group(file).prod()*p_neg_sentiment\n",
    "\n",
    "        \n",
    "    \n",
    "    return exploded"
   ]
  },
  {
   "cell_type": "code",
   "execution_count": 24,
   "metadata": {},
   "outputs": [
    {
     "name": "stdout",
     "output_type": "stream",
     "text": [
      "processing positive\n",
      "done\n",
      "processing negative\n",
      "done\n"
     ]
    }
   ],
   "source": [
    "word = top_ten_words(traing,5)\n"
   ]
  },
  {
   "cell_type": "code",
   "execution_count": 25,
   "metadata": {},
   "outputs": [],
   "source": [
    "pos=word.sort_values(by=[\"p.pos\"],ascending=False)\n",
    "pos_pred=pos.loc[pos[\"sentiment\"]==\"pos\"]\n",
    "top_ten_pos = pos_pred.review.unique()[:10].tolist()"
   ]
  },
  {
   "cell_type": "code",
   "execution_count": 26,
   "metadata": {},
   "outputs": [
    {
     "data": {
      "text/plain": [
       "['one',\n",
       " 'film',\n",
       " 'movie',\n",
       " 'like',\n",
       " 'good',\n",
       " 'story',\n",
       " 'great',\n",
       " 'see',\n",
       " 'time',\n",
       " 'well']"
      ]
     },
     "execution_count": 26,
     "metadata": {},
     "output_type": "execute_result"
    }
   ],
   "source": [
    "top_ten_pos"
   ]
  },
  {
   "cell_type": "code",
   "execution_count": 27,
   "metadata": {},
   "outputs": [],
   "source": [
    "neg=word.sort_values(by=[\"p.neg\"],ascending=False)\n",
    "neg_pred=neg.loc[neg[\"sentiment\"]==\"neg\"]\n",
    "top_ten_neg = neg_pred.review.unique()[:10].tolist()"
   ]
  },
  {
   "cell_type": "code",
   "execution_count": 28,
   "metadata": {},
   "outputs": [
    {
     "data": {
      "text/plain": [
       "['movie', 'one', 'film', 'like', 'even', 'good', 'would', 'bad', 'time', 'see']"
      ]
     },
     "execution_count": 28,
     "metadata": {},
     "output_type": "execute_result"
    }
   ],
   "source": [
    "top_ten_neg"
   ]
  },
  {
   "cell_type": "markdown",
   "metadata": {},
   "source": [
    "# Using the test dataset\n",
    "## Use the optimal hyperparameters you found in the step e, and use it to calculate the final accuracy.  \n",
    "## Use five fold cross validation for final accuracy"
   ]
  },
  {
   "cell_type": "code",
   "execution_count": 29,
   "metadata": {},
   "outputs": [],
   "source": [
    "test_pos_path = \"C:\\\\Users\\\\Elina\\\\Desktop\\\\aclImdb\\\\test\\\\pos\"\n",
    "test_neg_path = \"C:\\\\Users\\\\Elina\\\\Desktop\\\\aclImdb\\\\test\\\\neg\""
   ]
  },
  {
   "cell_type": "code",
   "execution_count": 30,
   "metadata": {},
   "outputs": [],
   "source": [
    "test_pos_list = []\n",
    "test_pos_list_filename = []\n",
    "for root, dirs, files in os.walk(test_pos_path):\n",
    "    for file in files:\n",
    "        if file.endswith('.txt'):\n",
    "            with open(os.path.join(root, file), 'r',encoding=\"utf8\") as f:\n",
    "                head,tail = os.path.split(f.name)\n",
    "                text = f.read()\n",
    "                test_pos_list.append(text)\n",
    "                test_pos_list_filename.append(tail)"
   ]
  },
  {
   "cell_type": "code",
   "execution_count": 31,
   "metadata": {},
   "outputs": [],
   "source": [
    "test_neg_list = []\n",
    "test_neg_list_filename = []\n",
    "\n",
    "for root, dirs, files in os.walk(test_neg_path):\n",
    "    for file in files:\n",
    "        if file.endswith('.txt'):\n",
    "            with open(os.path.join(root, file), 'r',encoding=\"utf8\") as f:\n",
    "                text = f.read()\n",
    "                head,tail = os.path.split(f.name)\n",
    "                test_neg_list.append(text)\n",
    "                test_neg_list_filename.append(tail)"
   ]
  },
  {
   "cell_type": "code",
   "execution_count": 32,
   "metadata": {},
   "outputs": [],
   "source": [
    "test_pos_dataFrame = pd.DataFrame(list(zip(test_pos_list,test_pos_list_filename)),columns = [\"review\",\"File Name\"]) \n",
    "test_pos_dataFrame[\"sentiment\"]=\"pos\"\n",
    "test_pos_dataFrame[\"p.pos\"]='NaN'\n",
    "test_pos_dataFrame[\"p.neg\"]='NaN'\n",
    "test_pos_dataFrame[\"predicted_sentiment\"]='NaN'\n",
    "\n",
    "test_neg_dataFrame = pd.DataFrame(list(zip(test_neg_list,test_neg_list_filename)),columns = [\"review\",\"File Name\"]) \n",
    "test_neg_dataFrame[\"sentiment\"]=\"neg\"\n",
    "test_neg_dataFrame[\"p.pos\"]='NaN'\n",
    "test_neg_dataFrame[\"p.neg\"]='NaN'\n",
    "test_neg_dataFrame[\"predicted_sentiment\"]='NaN'"
   ]
  },
  {
   "cell_type": "code",
   "execution_count": 33,
   "metadata": {},
   "outputs": [],
   "source": [
    "testing = pd.concat([test_pos_dataFrame,test_neg_dataFrame], ignore_index=True)"
   ]
  },
  {
   "cell_type": "code",
   "execution_count": 34,
   "metadata": {},
   "outputs": [],
   "source": [
    "testing = pd.concat([testing,traing], ignore_index=True)"
   ]
  },
  {
   "cell_type": "markdown",
   "metadata": {},
   "source": [
    "# Using the test dataset with smoothing"
   ]
  },
  {
   "cell_type": "code",
   "execution_count": 35,
   "metadata": {},
   "outputs": [
    {
     "name": "stdout",
     "output_type": "stream",
     "text": [
      "Cross-validation Pass 1\n",
      "processing positive\n",
      "done\n",
      "processing negative\n",
      "done\n",
      "accuracy =  0.962 \n",
      "\n",
      "\n",
      "\n",
      "Cross-validation Pass 2\n",
      "processing positive\n",
      "done\n",
      "processing negative\n",
      "done\n",
      "accuracy =  0.9624 \n",
      "\n",
      "\n",
      "\n",
      "Cross-validation Pass 3\n",
      "processing positive\n",
      "done\n",
      "processing negative\n",
      "done\n",
      "accuracy =  0.9636 \n",
      "\n",
      "\n",
      "\n",
      "Cross-validation Pass 4\n",
      "processing positive\n",
      "done\n",
      "processing negative\n",
      "done\n",
      "accuracy =  0.9651 \n",
      "\n",
      "\n",
      "\n",
      "Cross-validation Pass 5\n",
      "processing positive\n",
      "done\n",
      "processing negative\n",
      "done\n",
      "accuracy =  0.9637 \n",
      "\n",
      "\n",
      "\n"
     ]
    }
   ],
   "source": [
    "corss_validation(testing,5,smoothing = True)"
   ]
  }
 ],
 "metadata": {
  "kernelspec": {
   "display_name": "Python 3",
   "language": "python",
   "name": "python3"
  },
  "language_info": {
   "codemirror_mode": {
    "name": "ipython",
    "version": 3
   },
   "file_extension": ".py",
   "mimetype": "text/x-python",
   "name": "python",
   "nbconvert_exporter": "python",
   "pygments_lexer": "ipython3",
   "version": "3.8.3"
  }
 },
 "nbformat": 4,
 "nbformat_minor": 4
}
